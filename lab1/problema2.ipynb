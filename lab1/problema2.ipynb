{
 "cells": [
  {
   "cell_type": "code",
   "execution_count": 22,
   "metadata": {},
   "outputs": [],
   "source": [
    "from __future__ import division\n",
    "from pyomo.environ import *\n",
    "\n",
    "from pyomo.opt import SolverFactory\n",
    "import matplotlib.pyplot as plt"
   ]
  },
  {
   "cell_type": "markdown",
   "metadata": {},
   "source": [
    "## Data de entrada"
   ]
  },
  {
   "cell_type": "code",
   "execution_count": 23,
   "metadata": {},
   "outputs": [],
   "source": [
    "Model = ConcreteModel()\n",
    "numTrabajos = 5\n",
    "numEmpleados = 3\n",
    "\n",
    "p = RangeSet(1, numTrabajos)\n",
    "j = RangeSet(1, numEmpleados)\n",
    "\n",
    "horasEmpleados = {1:8, 2:10, 3:6}\n",
    "gananciaTrabajo = {1:50, 2:60, 3:40, 4:70, 5:30}\n",
    "horasTrabajo = {1:4, 2:5, 3:3, 4:6, 5:2}"
   ]
  },
  {
   "cell_type": "markdown",
   "metadata": {},
   "source": [
    "## Variable de decision"
   ]
  },
  {
   "cell_type": "code",
   "execution_count": 24,
   "metadata": {},
   "outputs": [],
   "source": [
    "Model.x = Var(p, j, domain=Binary)"
   ]
  },
  {
   "cell_type": "markdown",
   "metadata": {},
   "source": [
    "## Modelo matematico"
   ]
  },
  {
   "cell_type": "markdown",
   "metadata": {},
   "source": [
    "\n",
    "- **Conjuntos:** \n",
    "  - T: el conjunto de trabajos\n",
    "  - \\( E \\): el conjunto de empleados\n",
    "\n",
    "- **Índices:** \n",
    "  - Se usará el índice \\( t \\) para indexar cada elemento del conjunto \\( T \\).\n",
    "  - Se usará el índice \\( e \\) para indexar cada elemento del conjunto \\( E \\).\n",
    "\n",
    "- **Parámetros:**\n",
    "  - \\( h_e \\): las horas disponibles para el empleado \\( e \\)\n",
    "  - \\( g_t \\): la ganancia por realizar el trabajo \\( t \\)\n",
    "  - \\( d_t \\): las horas necesarias para completar el trabajo \\( t \\)\n",
    "\n",
    "- **Variable de Decisión (la incógnita):** \n",
    "  - Se propone una \\( x_{t,e} \\) binaria. \\( x_{t,e} = 1 \\) indica que el trabajo \\( t \\) es asignado al empleado \\( e \\), \\( 0 \\) si no lo es.\n",
    "\n",
    "- **Función objetivo:**\n",
    "\n",
    "$$\n",
    "\\text{Maximizar: } \\sum_{t \\in T} \\sum_{e \\in E} g_t \\cdot x_{t,e}\n",
    "$$\n",
    "\n",
    "\n"
   ]
  },
  {
   "cell_type": "code",
   "execution_count": 25,
   "metadata": {},
   "outputs": [],
   "source": [
    "Model.obj = Objective(expr = sum(Model.x[tb,ep]*gananciaTrabajo[tb] for tb in p for ep in j), sense=maximize)"
   ]
  },
  {
   "cell_type": "markdown",
   "metadata": {},
   "source": [
    "## Restricciones"
   ]
  },
  {
   "cell_type": "markdown",
   "metadata": {},
   "source": [
    "\n",
    "1. **Restricción de horas disponibles:**\n",
    "\n",
    "$$\n",
    "\\sum_{t \\in T} d_t \\cdot x_{t,e} \\leq h_e \\quad \\forall e \\in E\n",
    "$$\n",
    "\n",
    "\n",
    "2. **Restricción de asignación única:**\n",
    "\n",
    "$$\n",
    "\\sum_{e \\in E} x_{t,e} \\leq 1 \\quad \\forall t \\in T\n",
    "$$\n"
   ]
  },
  {
   "cell_type": "code",
   "execution_count": 26,
   "metadata": {},
   "outputs": [],
   "source": [
    "Model.tiempo_empleado = ConstraintList()\n",
    "Model.trabajoUsado = ConstraintList()\n",
    "\n",
    "# Restriccion de horas de trabajo\n",
    "for ep in j:\n",
    "    Model.tiempo_empleado.add(expr = sum(Model.x[tb, ep]*horasTrabajo[tb] for tb in p) <= horasEmpleados[ep])\n",
    "\n",
    "# Restriccion para que cada trabajo se asigne maximo una vez\n",
    "for tb in p:\n",
    "    Model.trabajoUsado.add(expr = sum(Model.x[tb, ep] for ep in j) <= 1)"
   ]
  },
  {
   "cell_type": "markdown",
   "metadata": {},
   "source": [
    "## Solver"
   ]
  },
  {
   "cell_type": "code",
   "execution_count": 27,
   "metadata": {},
   "outputs": [
    {
     "data": {
      "text/plain": [
       "{'Problem': [{'Name': 'unknown', 'Lower bound': 250.0, 'Upper bound': 250.0, 'Number of objectives': 1, 'Number of constraints': 8, 'Number of variables': 15, 'Number of nonzeros': 30, 'Sense': 'maximize'}], 'Solver': [{'Status': 'ok', 'Termination condition': 'optimal', 'Statistics': {'Branch and bound': {'Number of bounded subproblems': '7', 'Number of created subproblems': '7'}}, 'Error rc': 0, 'Time': 0.0038199424743652344}], 'Solution': [OrderedDict({'number of solutions': 0, 'number of solutions displayed': 0})]}"
      ]
     },
     "execution_count": 27,
     "metadata": {},
     "output_type": "execute_result"
    }
   ],
   "source": [
    "SolverFactory('glpk').solve(Model)"
   ]
  },
  {
   "cell_type": "markdown",
   "metadata": {},
   "source": [
    "## Presentacion de informacion"
   ]
  },
  {
   "cell_type": "code",
   "execution_count": 28,
   "metadata": {},
   "outputs": [
    {
     "name": "stdout",
     "output_type": "stream",
     "text": [
      "Model unknown\n",
      "\n",
      "  Variables:\n",
      "    x : Size=15, Index=[1:5]*[1:3]\n",
      "        Key    : Lower : Value : Upper : Fixed : Stale : Domain\n",
      "        (1, 1) :     0 :   1.0 :     1 : False : False : Binary\n",
      "        (1, 2) :     0 :   0.0 :     1 : False : False : Binary\n",
      "        (1, 3) :     0 :   0.0 :     1 : False : False : Binary\n",
      "        (2, 1) :     0 :   0.0 :     1 : False : False : Binary\n",
      "        (2, 2) :     0 :   1.0 :     1 : False : False : Binary\n",
      "        (2, 3) :     0 :   0.0 :     1 : False : False : Binary\n",
      "        (3, 1) :     0 :   0.0 :     1 : False : False : Binary\n",
      "        (3, 2) :     0 :   1.0 :     1 : False : False : Binary\n",
      "        (3, 3) :     0 :   0.0 :     1 : False : False : Binary\n",
      "        (4, 1) :     0 :   0.0 :     1 : False : False : Binary\n",
      "        (4, 2) :     0 :   0.0 :     1 : False : False : Binary\n",
      "        (4, 3) :     0 :   1.0 :     1 : False : False : Binary\n",
      "        (5, 1) :     0 :   1.0 :     1 : False : False : Binary\n",
      "        (5, 2) :     0 :   0.0 :     1 : False : False : Binary\n",
      "        (5, 3) :     0 :   0.0 :     1 : False : False : Binary\n",
      "\n",
      "  Objectives:\n",
      "    obj : Size=1, Index=None, Active=True\n",
      "        Key  : Active : Value\n",
      "        None :   True : 250.0\n",
      "\n",
      "  Constraints:\n",
      "    tiempo_empleado : Size=3\n",
      "        Key : Lower : Body : Upper\n",
      "          1 :  None :  6.0 :   8.0\n",
      "          2 :  None :  8.0 :  10.0\n",
      "          3 :  None :  6.0 :   6.0\n",
      "    trabajoUsado : Size=5\n",
      "        Key : Lower : Body : Upper\n",
      "          1 :  None :  1.0 :   1.0\n",
      "          2 :  None :  1.0 :   1.0\n",
      "          3 :  None :  1.0 :   1.0\n",
      "          4 :  None :  1.0 :   1.0\n",
      "          5 :  None :  1.0 :   1.0\n"
     ]
    },
    {
     "data": {
      "image/png": "[encoded data removed]",
      "text/plain": [
       "<Figure size 800x600 with 1 Axes>"
      ]
     },
     "metadata": {},
     "output_type": "display_data"
    }
   ],
   "source": [
    "Model.display()\n",
    "\n",
    "# Presentar la información de asignacion\n",
    "\n",
    "trabajos, ganancias, colores = [], [], []\n",
    "\n",
    "\n",
    "color_map = {1: 'blue', 2: 'green', 3: 'red'}\n",
    "\n",
    "for tb in p:\n",
    "    for ep in j:\n",
    "        if Model.x[tb, ep].value == 1:\n",
    "            trabajos.append(tb)\n",
    "            ganancias.append(gananciaTrabajo[tb])\n",
    "            colores.append(color_map[ep])\n",
    "\n",
    "plt.figure(figsize=(8, 6))\n",
    "bars = plt.bar(trabajos, ganancias, color=colores)\n",
    "\n",
    "for ep in j:\n",
    "    plt.bar(0, 0, color=color_map[ep], label=f'Empleado {ep}')\n",
    "plt.legend()\n",
    "\n",
    "plt.xlabel('Trabajo')\n",
    "plt.ylabel('Ganancia')\n",
    "plt.title('Asignación de Trabajos a Empleados')\n",
    "plt.xticks(trabajos)\n",
    "\n",
    "plt.show()\n"
   ]
  }
 ],
 "metadata": {
  "kernelspec": {
   "display_name": "base",
   "language": "python",
   "name": "python3"
  },
  "language_info": {
   "codemirror_mode": {
    "name": "ipython",
    "version": 3
   },
   "file_extension": ".py",
   "mimetype": "text/x-python",
   "name": "python",
   "nbconvert_exporter": "python",
   "pygments_lexer": "ipython3",
   "version": "3.12.2"
  }
 },
 "nbformat": 4,
 "nbformat_minor": 2
}
