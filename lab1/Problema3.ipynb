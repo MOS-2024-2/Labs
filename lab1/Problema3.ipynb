{
 "cells": [
  {
   "cell_type": "code",
   "execution_count": 1,
   "metadata": {},
   "outputs": [],
   "source": [
    "from __future__ import division\n",
    "from pyomo.environ import *\n",
    "\n",
    "from pyomo.opt import SolverFactory\n",
    "import matplotlib.pyplot as plt\n",
    "import matplotlib.pyplot as plt"
   ]
  },
  {
   "cell_type": "code",
   "execution_count": 2,
   "metadata": {},
   "outputs": [],
   "source": [
    "Model = ConcreteModel()\n",
    "\n",
    "p = ['avion_1', 'avion_2', 'avion_3']\n",
    "j = ['alimentos', 'medicinas', 'equipos', 'agua', 'mantas']\n",
    "\n",
    "# datos aviones\n",
    "capacidadPAviones = {'avion_1':30, 'avion_2':40, 'avion_3':50}\n",
    "capacidadVAviones = {'avion_1':25, 'avion_2':30, 'avion_3':35}\n",
    "\n",
    "# datos recursos\n",
    "valorRecursos = {'alimentos':50, 'medicinas':100, 'equipos':120, 'agua':60, 'mantas':40}\n",
    "pesoRecursos = {'alimentos':15, 'medicinas':5, 'equipos':20, 'agua':18, 'mantas':10}\n",
    "volumenRecursos = {'alimentos':8, 'medicinas':2, 'equipos':10, 'agua':12, 'mantas':6}\n"
   ]
  },
  {
   "cell_type": "markdown",
   "metadata": {},
   "source": [
    "## Variable de decision"
   ]
  },
  {
   "cell_type": "code",
   "execution_count": 3,
   "metadata": {},
   "outputs": [],
   "source": [
    "Model.x =  Var(p,j,domain=Binary)"
   ]
  },
  {
   "cell_type": "markdown",
   "metadata": {},
   "source": [
    "## Modelo matematico\n",
    "\n",
    "### Modelo matemático del Problema de la Misión Humanitaria en Zambia\n",
    "\n",
    "- **Conjuntos**:\n",
    "  - El conjunto de aviones P\n",
    "  - El conjunto de recursos R\n",
    "\n",
    "- **Índices**:\n",
    "  - Se usará el índice \\( i \\) para indexar cada elemento del conjunto \\( P \\) (aviones).\n",
    "  - Se usará el índice \\( j \\) para indexar cada elemento del conjunto \\( R \\) (recursos).\n",
    "\n",
    "- **Parámetros**:\n",
    "  - \\( v_j \\): valor del recurso \\( j \\), donde \\( j \\in R \\).\n",
    "  - \\( p_j \\): peso del recurso \\( j \\), donde \\( j \\in R \\).\n",
    "  - \\( q_j \\): volumen del recurso \\( j \\), donde \\( j \\in R \\).\n",
    "  - \\( c_i^p \\): capacidad de peso del avión \\( i \\), donde \\( i \\in P \\).\n",
    "  - \\( c_i^v \\): capacidad de volumen del avión \\( i \\), donde \\( i \\in P \\).\n",
    "\n",
    "- **Variable de Decisión**:\n",
    "  - Se propone una \\( x_{ij} \\) binaria, donde 1 indica que el recurso \\( j \\) es transportado en el avión \\( i \\), y 0 en caso contrario.\n",
    "\n",
    "- **Función objetivo**:\n",
    "\n",
    "$$\n",
    "\\text{Maximizar: } \\sum_{i \\in P} \\sum_{j \\in R} v_j \\cdot x_{ij}\n",
    "$$\n",
    "\n",
    "- **Restricciones**:\n",
    "\n",
    "  - **Capacidad de Peso**:\n",
    "\n",
    "$$\n",
    "\\sum_{j \\in R} p_j \\cdot x_{ij} \\leq c_i^p, \\quad \\forall i \\in P\n",
    "$$\n",
    "\n",
    "  - **Capacidad de Volumen**:\n",
    "\n",
    "$$\n",
    "\\sum_{j \\in R} q_j \\cdot x_{ij} \\leq c_i^v, \\quad \\forall i \\in P\n",
    "$$\n",
    "\n",
    "  - **Compatibilidad de Recursos (equipos y agua)**:\n",
    "\n",
    "$$\n",
    "x_{i, \\text{equipos}} + x_{i, \\text{agua}} \\leq 1, \\quad \\forall i \\in P\n",
    "$$\n",
    "\n",
    "  - **Asignación Exclusiva de Recursos**:\n",
    "\n",
    "$$\n",
    "\\sum_{i \\in P} x_{ij} \\leq 1, \\quad \\forall j \\in R\n",
    "$$\n",
    "\n",
    "  - **Seguridad de Medicinas**:\n",
    "\n",
    "$$\n",
    "x_{\\text{avion\\_1}, \\text{medicinas}} = 0\n",
    "$$\n",
    "\n"
   ]
  },
  {
   "cell_type": "code",
   "execution_count": 4,
   "metadata": {},
   "outputs": [],
   "source": [
    "Model.obj = Objective(expr= sum(Model.x[av, rc]*valorRecursos[rc] for av in p for rc in j), sense=maximize)"
   ]
  },
  {
   "cell_type": "markdown",
   "metadata": {},
   "source": [
    "## Restricciones"
   ]
  },
  {
   "cell_type": "code",
   "execution_count": 5,
   "metadata": {},
   "outputs": [],
   "source": [
    "Model.pesoMaximo = ConstraintList()\n",
    "Model.volumenMaximo = ConstraintList()\n",
    "Model.recursoUsado = ConstraintList()\n",
    "Model.compatibilidad = ConstraintList()\n",
    "\n",
    "for av in p:\n",
    "    Model.pesoMaximo.add(expr= sum(Model.x[av,rc]*pesoRecursos[rc] for rc in j) <= capacidadPAviones[av])\n",
    "    Model.volumenMaximo.add(expr= sum(Model.x[av,rc]*volumenRecursos[rc] for rc in j) <= capacidadVAviones[av])\n",
    "    Model.compatibilidad.add(expr= (Model.x[av, 'equipos'] + Model.x[av, 'agua']) <= 1)\n",
    "\n",
    "for rc in j:\n",
    "    Model.recursoUsado.add(expr= sum(Model.x[av, rc] for av in p) <= 1)\n",
    "\n",
    "Model.seguridadMedi = Constraint(expr= (Model.x['avion_1','medicinas'] == 0))\n"
   ]
  },
  {
   "cell_type": "markdown",
   "metadata": {},
   "source": [
    "## Solver"
   ]
  },
  {
   "cell_type": "code",
   "execution_count": 6,
   "metadata": {},
   "outputs": [
    {
     "data": {
      "text/plain": [
       "{'Problem': [{'Name': 'unknown', 'Lower bound': 370.0, 'Upper bound': 370.0, 'Number of objectives': 1, 'Number of constraints': 15, 'Number of variables': 15, 'Number of nonzeros': 52, 'Sense': 'maximize'}], 'Solver': [{'Status': 'ok', 'Termination condition': 'optimal', 'Statistics': {'Branch and bound': {'Number of bounded subproblems': '3', 'Number of created subproblems': '3'}}, 'Error rc': 0, 'Time': 0.004751920700073242}], 'Solution': [OrderedDict({'number of solutions': 0, 'number of solutions displayed': 0})]}"
      ]
     },
     "execution_count": 6,
     "metadata": {},
     "output_type": "execute_result"
    }
   ],
   "source": [
    "SolverFactory('glpk').solve(Model)"
   ]
  },
  {
   "cell_type": "code",
   "execution_count": 7,
   "metadata": {},
   "outputs": [
    {
     "name": "stdout",
     "output_type": "stream",
     "text": [
      "Model unknown\n",
      "\n",
      "  Variables:\n",
      "    x : Size=15, Index={avion_1, avion_2, avion_3}*{alimentos, medicinas, equipos, agua, mantas}\n",
      "        Key                      : Lower : Value : Upper : Fixed : Stale : Domain\n",
      "             ('avion_1', 'agua') :     0 :   0.0 :     1 : False : False : Binary\n",
      "        ('avion_1', 'alimentos') :     0 :   1.0 :     1 : False : False : Binary\n",
      "          ('avion_1', 'equipos') :     0 :   0.0 :     1 : False : False : Binary\n",
      "           ('avion_1', 'mantas') :     0 :   0.0 :     1 : False : False : Binary\n",
      "        ('avion_1', 'medicinas') :     0 :   0.0 :     1 : False : False : Binary\n",
      "             ('avion_2', 'agua') :     0 :   0.0 :     1 : False : False : Binary\n",
      "        ('avion_2', 'alimentos') :     0 :   0.0 :     1 : False : False : Binary\n",
      "          ('avion_2', 'equipos') :     0 :   1.0 :     1 : False : False : Binary\n",
      "           ('avion_2', 'mantas') :     0 :   1.0 :     1 : False : False : Binary\n",
      "        ('avion_2', 'medicinas') :     0 :   1.0 :     1 : False : False : Binary\n",
      "             ('avion_3', 'agua') :     0 :   1.0 :     1 : False : False : Binary\n",
      "        ('avion_3', 'alimentos') :     0 :   0.0 :     1 : False : False : Binary\n",
      "          ('avion_3', 'equipos') :     0 :   0.0 :     1 : False : False : Binary\n",
      "           ('avion_3', 'mantas') :     0 :   0.0 :     1 : False : False : Binary\n",
      "        ('avion_3', 'medicinas') :     0 :   0.0 :     1 : False : False : Binary\n",
      "\n",
      "  Objectives:\n",
      "    obj : Size=1, Index=None, Active=True\n",
      "        Key  : Active : Value\n",
      "        None :   True : 370.0\n",
      "\n",
      "  Constraints:\n",
      "    pesoMaximo : Size=3\n",
      "        Key : Lower : Body : Upper\n",
      "          1 :  None : 15.0 :  30.0\n",
      "          2 :  None : 35.0 :  40.0\n",
      "          3 :  None : 18.0 :  50.0\n",
      "    volumenMaximo : Size=3\n",
      "        Key : Lower : Body : Upper\n",
      "          1 :  None :  8.0 :  25.0\n",
      "          2 :  None : 18.0 :  30.0\n",
      "          3 :  None : 12.0 :  35.0\n",
      "    recursoUsado : Size=5\n",
      "        Key : Lower : Body : Upper\n",
      "          1 :  None :  1.0 :   1.0\n",
      "          2 :  None :  1.0 :   1.0\n",
      "          3 :  None :  1.0 :   1.0\n",
      "          4 :  None :  1.0 :   1.0\n",
      "          5 :  None :  1.0 :   1.0\n",
      "    compatibilidad : Size=3\n",
      "        Key : Lower : Body : Upper\n",
      "          1 :  None :  0.0 :   1.0\n",
      "          2 :  None :  1.0 :   1.0\n",
      "          3 :  None :  1.0 :   1.0\n",
      "    seguridadMedi : Size=1\n",
      "        Key  : Lower : Body : Upper\n",
      "        None :   0.0 :  0.0 :   0.0\n"
     ]
    }
   ],
   "source": [
    "Model.display()"
   ]
  },
  {
   "cell_type": "code",
   "execution_count": 8,
   "metadata": {},
   "outputs": [
    {
     "data": {
      "image/png": "[encoded data removed]",
      "text/plain": [
       "<Figure size 1000x600 with 1 Axes>"
      ]
     },
     "metadata": {},
     "output_type": "display_data"
    }
   ],
   "source": [
    "colores = {'avion_1': 'blue', 'avion_2': 'green', 'avion_3': 'red'}\n",
    "labels = {'avion_1': 'Avión 1', 'avion_2': 'Avión 2', 'avion_3': 'Avión 3'}\n",
    "\n",
    "recursos = []\n",
    "valores = []\n",
    "colores_barras = []\n",
    "\n",
    "for rc in j:\n",
    "    for av in p:\n",
    "        if Model.x[av, rc].value == 1:\n",
    "            recursos.append(rc)\n",
    "            valores.append(valorRecursos[rc])\n",
    "            colores_barras.append(colores[av])\n",
    "\n",
    "plt.figure(figsize=(10, 6))\n",
    "plt.bar(recursos, valores, color=colores_barras)\n",
    "\n",
    "for avion, color in colores.items():\n",
    "    plt.bar(0, 0, color=color, label=labels[avion])\n",
    "\n",
    "plt.xlabel('Tipo de Recurso')\n",
    "plt.ylabel('Valor del Recurso')\n",
    "plt.title('Asignación de Recursos a los Aviones')\n",
    "plt.legend(title='Aviones')\n",
    "plt.show()\n"
   ]
  },
  {
   "cell_type": "markdown",
   "metadata": {},
   "source": [
    "## Analisis de los resultados"
   ]
  },
  {
   "cell_type": "markdown",
   "metadata": {},
   "source": [
    "Alimentos Básicos (Avión 1): Este recurso, con un valor de 50, fue asignado al Avión 1, que es capaz de manejar su peso y volumen sin dificultades. Dado que los alimentos son esenciales pero tienen un valor menor en comparación con otros recursos, esta asignación asegura que los recursos más valiosos puedan utilizar los aviones con mayores capacidades.\n",
    "\n",
    "Medicinas (Avión 2): Las medicinas, con un valor de 100, se asignaron al Avión 2. Esta decisión está alineada con la restricción que impide que las medicinas sean transportadas en el Avión 1 debido a la falta de condiciones adecuadas. El Avión 2, que sí cumple con estas condiciones, se convierte en el medio de transporte ideal, garantizando que los medicamentos lleguen a su destino en condiciones óptimas.\n",
    "\n",
    "Equipos Médicos (Avión 2): Con un valor de 120, los equipos médicos son el recurso más valioso y también se asignaron al Avión 2. La decisión de combinar los equipos médicos con las medicinas en el mismo avión maximiza el uso de la capacidad disponible en términos de valor, asegurando que los recursos más críticos lleguen juntos. Además, se respeta la restricción de compatibilidad con el agua potable.\n",
    "\n",
    "Agua Potable (Avión 3): El agua potable, valorada en 60, fue asignada al Avión 3. Esto evita cualquier riesgo de contaminación cruzada con los equipos médicos, cumpliendo con las restricciones impuestas en el modelo. Además, el Avión 3 tiene suficiente capacidad tanto en peso como en volumen para transportar este recurso de manera eficiente.\n",
    "\n",
    "Mantas (Avión 2): Las mantas, con un valor de 40, también fueron asignadas al Avión 2. Aunque este recurso tiene un valor menor, su inclusión en este avión demuestra que aún había capacidad disponible después de asignar los recursos más críticos.\n",
    "\n",
    "En conjunto, la asignación realizada optimiza el valor total transportado mientras respeta las restricciones del modelo, garantizando que los recursos más valiosos y delicados sean manejados adecuadamente. La gráfica visualiza claramente cómo se han distribuido los recursos entre los aviones, destacando la eficiencia del modelo en términos de maximización del valor y cumplimiento de restricciones logísticas."
   ]
  },
  {
   "cell_type": "markdown",
   "metadata": {},
   "source": [
    "## Implicaciones de decisiones tomadas"
   ]
  },
  {
   "cell_type": "markdown",
   "metadata": {},
   "source": [
    "El modelo matemático fue planteado como un problema de optimización lineal, con un objetivo claro de maximizar el valor de los recursos transportados. Las decisiones tomadas en cuanto a las restricciones —como las de peso, volumen, y compatibilidad— aseguran que la solución sea factible en un escenario real. En el código, estas restricciones fueron implementadas cuidadosamente para reflejar las limitaciones logísticas de la misión.\n",
    "\n",
    "Las decisiones de modelar las variables como binarias permiten un control preciso sobre qué recursos se asignan a cada avión. Esto también facilita la interpretación de los resultados, aun asi para la mejor visualizacion optamos por graficar para asi tener un contexto mas amigable hacia la comprension de estos."
   ]
  },
  {
   "cell_type": "markdown",
   "metadata": {},
   "source": [
    "##  Impacto de las restricciones de almacenamiento de recursos"
   ]
  },
  {
   "cell_type": "markdown",
   "metadata": {},
   "source": [
    "Las restricciones de almacenamiento juegan un papel fundamental en la efectividad del modelo de optimización, garantizando no solo la maximización del valor de los recursos transportados, sino también su integridad y seguridad durante el transporte."
   ]
  },
  {
   "cell_type": "markdown",
   "metadata": {},
   "source": [
    "Restricciones:\n",
    "\n",
    "-**Seguridad de medicamentos**: Esta restricción asegura que los medicamentos no sean transportados en el Avión 1, ya que este avión carece de las condiciones necesarias para mantener la temperatura adecuada. La imposición de esta restricción garantiza que los medicamentos mantengan su efectividad al llegar a su destino, evitando cualquier degradación que pudiera ocurrir debido a condiciones de almacenamiento inadecuadas. Por lo tanto  al momento de resolver el modelo se restrinje el ingresar a la lista optimizada este resultado que no cumple con esta restriccion.\n",
    "\n",
    "-**Compatibilidad entre Equipos Médicos y Agua Potable**: Esta restricción prohíbe que los equipos médicos y el agua potable se transporten en el mismo avión para evitar riesgos de contaminación cruzada. Los equipos médicos son sensibles y podrían ser dañados si entran en contacto con el agua, lo que podría comprometer su funcionalidad en el campo. Esta medida asegura que ambos recursos lleguen en perfectas condiciones, manteniendo la eficacia de la misión humanitaria. Esto impacta muy directamente a la lista optimizada ya que por la reduccion de opciones gracias a la restriccion puede que no se logre cumplir la meta de cantidad necesaria y que sea optima para realizar la mision.\n",
    "\n",
    "-**Capacidades Máximas de Peso y Volumen**: Estas restricciones aseguran que ningún avión sea sobrecargado más allá de sus capacidades físicas. Respetar las limitaciones de peso y volumen es podriamos decir que es crucial para evitar situaciones donde el avión no pueda despegar o mantener un vuelo seguro, lo que podría poner en peligro la misión y las vidas de los tripulantes.\n",
    "\n",
    "-**Uso Único de Recursos**:  Esta restricción asegura que cada recurso se asigna a un solo avión, evitando duplicaciones y asegurando una distribución clara y precisa de los recursos.\n",
    "\n",
    "**Impacto en la solucion de estas restricciones**: Estas restricciones tienen un impacto significativo en la solución al obligar al modelo a encontrar un balance entre maximizar el valor total transportado y asegurar la integridad de los recursos. Sin estas restricciones, el modelo podría generar soluciones que maximizan el valor transportado a costa de la seguridad o la calidad de los recursos. Esto sería especialmente perjudicial en el contexto de una misión humanitaria, donde cada recurso debe llegar en condiciones óptimas para ser efectivo. Así, las restricciones de almacenamiento aseguran que la solución sea tanto óptima como viable en un escenario real, donde la calidad y la seguridad son tan importantes como el valor."
   ]
  }
 ],
 "metadata": {
  "kernelspec": {
   "display_name": "Python 3 (ipykernel)",
   "language": "python",
   "name": "python3"
  },
  "language_info": {
   "codemirror_mode": {
    "name": "ipython",
    "version": 3
   },
   "file_extension": ".py",
   "mimetype": "text/x-python",
   "name": "python",
   "nbconvert_exporter": "python",
   "pygments_lexer": "ipython3",
   "version": "3.12.2"
  }
 },
 "nbformat": 4,
 "nbformat_minor": 4
}
