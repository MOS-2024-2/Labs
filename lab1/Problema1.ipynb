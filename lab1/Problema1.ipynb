{
 "cells": [
  {
   "cell_type": "code",
   "execution_count": null,
   "id": "bd74a362-4f5c-4370-ac0f-a22d3b031a20",
   "metadata": {},
   "outputs": [],
   "source": [
    "from pyomo.environ import *\n",
    "\n",
    "from pyomo.opt import SolverFactory\n",
    "\n",
    "import matplotlib.pyplot as plt"
   ]
  },
  {
   "cell_type": "code",
   "execution_count": null,
   "id": "443c847f-9471-402b-a83d-80d6cc447414",
   "metadata": {},
   "outputs": [],
   "source": [
    "# Definición del modelo\n",
    "Model = ConcreteModel()"
   ]
  },
  {
   "cell_type": "code",
   "execution_count": null,
   "id": "ef58ddac-8e19-40b9-b071-ace5e17ddb37",
   "metadata": {},
   "outputs": [],
   "source": [
    "# Conjunto de tareas (1 a 11)\n",
    "T = RangeSet(1, 11)\n",
    "\n",
    "# Constantes\n",
    "NUM_DESARROLLADORES = 4\n",
    "MAX_PUNTOS = 13\n",
    "\n",
    "# Parámetros: puntos de historia por tarea\n",
    "puntos_historia = {\n",
    "    1: 5,\n",
    "    2: 3,\n",
    "    3: 13,\n",
    "    4: 1,\n",
    "    5: 21,\n",
    "    6: 2,\n",
    "    7: 2,\n",
    "    8: 5,\n",
    "    9: 8,\n",
    "    10: 13,\n",
    "    11: 21\n",
    "}\n",
    "\n",
    "# Parámetros: prioridades asignadas\n",
    "prioridad = {\n",
    "    \"Maxima\": 7,\n",
    "    \"Alta\": 6,\n",
    "    \"Media Alta\": 5,\n",
    "    \"Media\": 4,\n",
    "    \"Media Baja\": 3,\n",
    "    \"Baja\": 2,\n",
    "    \"Minima\": 1\n",
    "}\n",
    "\n",
    "# Mapeo de prioridades a tareas\n",
    "prioridad_puntos = {\n",
    "    1: \"Maxima\",\n",
    "    2: \"Media Alta\",\n",
    "    3: \"Alta\",\n",
    "    4: \"Media Baja\",\n",
    "    5: \"Minima\",\n",
    "    6: \"Media\",\n",
    "    7: \"Alta\",\n",
    "    8: \"Media\",\n",
    "    9: \"Baja\",\n",
    "    10: \"Maxima\",\n",
    "    11: \"Alta\"\n",
    "}\n",
    "\n",
    "# Conversión de prioridades a valores numéricos\n",
    "num_prioridad_puntos = {t: prioridad[prioridad_puntos[t]] for t in prioridad_puntos}"
   ]
  },
  {
   "cell_type": "markdown",
   "id": "2bec0994-8fc6-4d8a-b50d-db2c9c5210ef",
   "metadata": {},
   "source": [
    "## Variable de decision"
   ]
  },
  {
   "cell_type": "code",
   "execution_count": null,
   "id": "d215a3c3-6657-4ae5-b228-621bc8b292c1",
   "metadata": {},
   "outputs": [],
   "source": [
    "# Definición de las variables de decisión\n",
    "Model.x = Var(T, domain=Binary)"
   ]
  },
  {
   "cell_type": "markdown",
   "id": "88cec401-fb33-4a6d-9556-5e3f59771254",
   "metadata": {},
   "source": [
    "## Modelo Matematico"
   ]
  },
  {
   "cell_type": "markdown",
   "id": "6e46723b-69e7-43d6-82e3-00f5bce89cd6",
   "metadata": {},
   "source": [
    "**Conjuntos:**\n",
    "$$T = \\{T_1, T_2, \\dots, T_{11}\\}$$\n",
    "\n",
    "**Parámetros:**\n",
    "- **Prioridad de cada tarea:**\n",
    "  $$P_i, \\quad \\forall i \\in T$$\n",
    "- **Puntos históricos de cada tarea:**\n",
    "  $$H_i, \\quad \\forall i \\in T$$\n",
    "- **Total de puntos históricos:**\n",
    "  $$H = \\text{TotalHP}$$\n",
    "\n",
    "**Variables de Decisión:**\n",
    "$$X_i, \\quad \\forall i \\in T$$\n",
    "\n",
    "**Función Objetivo:**\n",
    "$$\\text{Maximizar} \\sum_{i \\in T} P_i \\times X_i$$\n",
    "\n",
    "**Restricciones:**\n",
    "$$\\sum_{i \\in T} X_i \\leq \\text{TotalHP}$$\n"
   ]
  },
  {
   "cell_type": "markdown",
   "id": "f92e7894-6cf8-4e5e-86c2-58fef4eee7e6",
   "metadata": {},
   "source": [
    "## Funcion objetivo"
   ]
  },
  {
   "cell_type": "code",
   "execution_count": null,
   "id": "67a20d88-c7f5-4811-a612-8af48960530b",
   "metadata": {},
   "outputs": [],
   "source": [
    "# Definición de la función objetivo\n",
    "Model.obj = Objective(expr=sum(Model.x[t] * num_prioridad_puntos[t] for t in T), sense=maximize)"
   ]
  },
  {
   "cell_type": "markdown",
   "id": "2dcb2831-d9a5-4fd0-abbf-e90860ed304e",
   "metadata": {},
   "source": [
    "## Restricciones"
   ]
  },
  {
   "cell_type": "code",
   "execution_count": null,
   "id": "8133ef54-1d0f-4f1b-9e00-697a01ac9168",
   "metadata": {},
   "outputs": [],
   "source": [
    "# Restricción: la suma de los puntos de historia asignados no debe exceder la capacidad\n",
    "Model.con1 = Constraint(expr=sum(Model.x[t] * puntos_historia[t] for t in T) <= MAX_PUNTOS * NUM_DESARROLLADORES)"
   ]
  },
  {
   "cell_type": "markdown",
   "id": "4e3bc3f8-0eee-427b-89a9-c923cd32721a",
   "metadata": {},
   "source": [
    "## Solver"
   ]
  },
  {
   "cell_type": "code",
   "execution_count": null,
   "id": "c1240e3b-15fe-4491-9226-ca326bac86c8",
   "metadata": {},
   "outputs": [],
   "source": [
    "# Resolución del modelo\n",
    "SolverFactory('glpk').solve(Model)"
   ]
  },
  {
   "cell_type": "markdown",
   "id": "e8735c6b-bd86-49b8-91d2-dacaf4b3835e",
   "metadata": {},
   "source": [
    "## Model display"
   ]
  },
  {
   "cell_type": "code",
   "execution_count": null,
   "id": "7b0587ce-da75-47d3-8acc-cfd1e12302f3",
   "metadata": {},
   "outputs": [],
   "source": [
    "# Mostrar resultados\n",
    "Model.display()"
   ]
  },
  {
   "cell_type": "raw",
   "id": "889e9f4c-bc71-4029-a81a-faf42e3b817a",
   "metadata": {},
   "source": [
    "Output:"
   ]
  },
  {
   "cell_type": "raw",
   "id": "ea49d397-d9bd-445d-bdde-e306faed29e7",
   "metadata": {},
   "source": [
    "1\n",
    "2\n",
    "3\n",
    "4\n",
    "5\n",
    "6\n",
    "7\n",
    "8\n",
    "9\n",
    "10\n",
    "11\n",
    "{1: 7, 2: 5, 3: 6, 4: 3, 5: 1, 6: 4, 7: 6, 8: 4, 9: 2, 10: 7, 11: 6}\n",
    "Model unknown\n",
    "\n",
    "  Variables:\n",
    "    x : Size=11, Index=[1:11]\n",
    "        Key : Lower : Value : Upper : Fixed : Stale : Domain\n",
    "          1 :     0 :   1.0 :     1 : False : False : Binary\n",
    "          2 :     0 :   1.0 :     1 : False : False : Binary\n",
    "          3 :     0 :   1.0 :     1 : False : False : Binary\n",
    "          4 :     0 :   1.0 :     1 : False : False : Binary\n",
    "          5 :     0 :   0.0 :     1 : False : False : Binary\n",
    "          6 :     0 :   1.0 :     1 : False : False : Binary\n",
    "          7 :     0 :   1.0 :     1 : False : False : Binary\n",
    "          8 :     0 :   1.0 :     1 : False : False : Binary\n",
    "          9 :     0 :   1.0 :     1 : False : False : Binary\n",
    "         10 :     0 :   1.0 :     1 : False : False : Binary\n",
    "         11 :     0 :   0.0 :     1 : False : False : Binary\n",
    "\n",
    "  Objectives:\n",
    "    obj : Size=1, Index=None, Active=True\n",
    "        Key  : Active : Value\n",
    "        None :   True :  44.0\n",
    "\n",
    "  Constraints:\n",
    "    con1 : Size=1\n",
    "        Key  : Lower : Body : Upper\n",
    "        None :  None : 52.0 :  52.0"
   ]
  },
  {
   "cell_type": "markdown",
   "id": "fe931856-2411-4da8-862e-1fe61499a1a8",
   "metadata": {},
   "source": [
    "## Grafica"
   ]
  },
  {
   "cell_type": "code",
   "execution_count": null,
   "id": "6a3f7837-4740-429d-a7d0-d2d93fd77b52",
   "metadata": {},
   "outputs": [],
   "source": [
    "tasks = list(T)\n",
    "story_points = [puntos_historia[t] for t in T]\n",
    "\n",
    "selected = [Model.x[t]() for t in T] \n",
    "\n",
    "\n",
    "plt.bar(tasks, [sp * sel for sp, sel in zip(story_points, selected)], color='green', label='Selected Tasks')\n",
    "\n",
    "plt.xlabel(\"Tareas\")\n",
    "plt.ylabel(\"Puntos de historia\")\n",
    "plt.title(\"Asignación de puntos de historia a tareas seleccionadas\")\n",
    "\n",
    "plt.xticks(tasks, [f\"T{i}\" for i in tasks])\n",
    "plt.legend()\n",
    "\n",
    "plt.show()"
   ]
  },
  {
   "cell_type": "code",
   "execution_count": 2,
   "id": "d5b65ad4-edec-4bb1-98a0-1f00a4f2fa27",
   "metadata": {},
   "outputs": [
    {
     "data": {
      "text/html": [
       "<img src=\"https://raw.githubusercontent.com/LuisCastelblanco/places/main/image.png\"/>"
      ],
      "text/plain": [
       "<IPython.core.display.Image object>"
      ]
     },
     "metadata": {},
     "output_type": "display_data"
    }
   ],
   "source": [
    "from IPython.display import Image, display\n",
    "\n",
    "# URL of the image\n",
    "image_url = \"https://raw.githubusercontent.com/LuisCastelblanco/places/main/image.png\"\n",
    "\n",
    "# Display the image\n",
    "display(Image(url=image_url))"
   ]
  },
  {
   "cell_type": "markdown",
   "id": "c9cc62f7-dcc0-49bc-8042-d4ec1d2b6c4d",
   "metadata": {},
   "source": [
    "## Discusion de resultados"
   ]
  },
  {
   "cell_type": "markdown",
   "id": "492afccc-4753-4605-bfe3-c9d9dc59a020",
   "metadata": {},
   "source": [
    "### Distribución de Prioridades\n",
    "\n",
    "Las tareas T1, T2, T3, T4, T6, T7, T8, T9, y T10 fueron seleccionadas, lo que refleja una diversidad en la distribución de prioridades. Las tareas con prioridad \"Máxima\" (T1 y T10) y \"Alta\" (T3, T7, y T11) fueron seleccionadas, lo que demuestra que el modelo dio preferencia a tareas críticas dentro de la limitación de puntos de historia disponible.\n",
    "\n",
    "### Evaluacion de restricciones\n",
    "\n",
    "La restricción de capacidad (13 puntos por desarrollador para 4 desarrolladores) fue respetada, asegurando que la carga de trabajo no excediera los recursos disponibles. El cuerpo de la restricción Body coincide con el límite superior 52 puntos, lo que indica una utilización completa de la capacidad.\n"
   ]
  },
  {
   "cell_type": "markdown",
   "id": "161ee183-5528-413a-bba5-3d27d0f0d607",
   "metadata": {},
   "source": [
    "### Implicaciones de decision\n",
    "La no selección de tareas como T5 (prioridad \"Mínima\") y T11 (también \"Alta\") implica que estas tareas se postergaron posiblemente debido a sus elevados puntos de historia, lo que podría llevar a una acumulación de trabajo pendiente en futuras iteraciones."
   ]
  },
  {
   "cell_type": "code",
   "execution_count": null,
   "id": "1122f4a1-4f1a-4fc1-9d9f-025a7bd88ae5",
   "metadata": {},
   "outputs": [],
   "source": []
  }
 ],
 "metadata": {
  "kernelspec": {
   "display_name": "Python 3 (ipykernel)",
   "language": "python",
   "name": "python3"
  },
  "language_info": {
   "codemirror_mode": {
    "name": "ipython",
    "version": 3
   },
   "file_extension": ".py",
   "mimetype": "text/x-python",
   "name": "python",
   "nbconvert_exporter": "python",
   "pygments_lexer": "ipython3",
   "version": "3.12.3"
  }
 },
 "nbformat": 4,
 "nbformat_minor": 5
}
