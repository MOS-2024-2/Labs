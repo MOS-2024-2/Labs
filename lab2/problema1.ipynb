{
 "cells": [
  {
   "cell_type": "code",
   "execution_count": 13,
   "metadata": {},
   "outputs": [],
   "source": [
    "from pyomo.environ import *\n",
    "from pyomo.opt import SolverFactory"
   ]
  },
  {
   "cell_type": "code",
   "execution_count": 14,
   "metadata": {},
   "outputs": [],
   "source": [
    "# Conjuntos\n",
    "ciudades_destino = ['Cali', 'Barranquilla', 'Pasto', 'Tunja', 'Chía', 'Manizales']\n",
    "ciudades_origen = ['Bogotá', 'Medellín']"
   ]
  },
  {
   "cell_type": "code",
   "execution_count": 15,
   "metadata": {},
   "outputs": [],
   "source": [
    "# Parámetros\n",
    "demanda = {'Cali': 125, 'Barranquilla': 175, 'Pasto': 225, 'Tunja': 250, 'Chía': 225, 'Manizales': 200}\n",
    "oferta = {'Bogotá': 550, 'Medellín': 700}\n",
    "\n",
    "costos_transporte = {\n",
    "    ('Cali', 'Bogotá'): 0, ('Cali', 'Medellín'): 2.5,\n",
    "    ('Barranquilla', 'Bogotá'): 2.5, ('Barranquilla', 'Medellín'): 0,\n",
    "    ('Pasto', 'Bogotá'): 1.6, ('Pasto', 'Medellín'): 2.0,\n",
    "    ('Tunja', 'Bogotá'): 1.4, ('Tunja', 'Medellín'): 1.0,\n",
    "    ('Chía', 'Bogotá'): 0.8, ('Chía', 'Medellín'): 1.0,\n",
    "    ('Manizales', 'Bogotá'): 1.4, ('Manizales', 'Medellín'): 0.8\n",
    "}"
   ]
  },
  {
   "cell_type": "code",
   "execution_count": 16,
   "metadata": {},
   "outputs": [],
   "source": [
    "# Crear el modelo\n",
    "model = ConcreteModel()\n",
    "\n",
    "# Variables de decisión\n",
    "model.x = Var(ciudades_destino, ciudades_origen, domain=NonNegativeReals)"
   ]
  },
  {
   "cell_type": "code",
   "execution_count": 17,
   "metadata": {},
   "outputs": [],
   "source": [
    "# Función objetivo: Minimizar el costo total de transporte\n",
    "def costo_total(model):\n",
    "    return sum(costos_transporte[(i, j)] * model.x[i, j] for i in ciudades_destino for j in ciudades_origen)\n",
    "\n",
    "model.objetivo = Objective(rule=costo_total, sense=minimize)"
   ]
  },
  {
   "cell_type": "code",
   "execution_count": 18,
   "metadata": {},
   "outputs": [],
   "source": [
    "# Restricción de demanda: cada ciudad debe recibir al menos su demanda\n",
    "def demanda_satisfecha(model, i):\n",
    "    return sum(model.x[i, j] for j in ciudades_origen) >= demanda[i]\n",
    "\n",
    "model.restriccion_demanda = Constraint(ciudades_destino, rule=demanda_satisfecha)"
   ]
  },
  {
   "cell_type": "code",
   "execution_count": 19,
   "metadata": {},
   "outputs": [],
   "source": [
    "# Restricción de oferta: cada ciudad de origen no puede enviar más productos de los que tiene disponibles\n",
    "def oferta_disponible(model, j):\n",
    "    return sum(model.x[i, j] for i in ciudades_destino) <= oferta[j]\n",
    "\n",
    "model.restriccion_oferta = Constraint(ciudades_origen, rule=oferta_disponible)"
   ]
  },
  {
   "cell_type": "code",
   "execution_count": 20,
   "metadata": {},
   "outputs": [
    {
     "name": "stdout",
     "output_type": "stream",
     "text": [
      "Model unknown\n",
      "\n",
      "  Variables:\n",
      "    x : Size=12, Index={Cali, Barranquilla, Pasto, Tunja, Chía, Manizales}*{Bogotá, Medellín}\n",
      "        Key                          : Lower : Value : Upper : Fixed : Stale : Domain\n",
      "          ('Barranquilla', 'Bogotá') :     0 :   0.0 :  None : False : False : NonNegativeReals\n",
      "        ('Barranquilla', 'Medellín') :     0 : 175.0 :  None : False : False : NonNegativeReals\n",
      "                  ('Cali', 'Bogotá') :     0 : 125.0 :  None : False : False : NonNegativeReals\n",
      "                ('Cali', 'Medellín') :     0 :   0.0 :  None : False : False : NonNegativeReals\n",
      "                  ('Chía', 'Bogotá') :     0 : 200.0 :  None : False : False : NonNegativeReals\n",
      "                ('Chía', 'Medellín') :     0 :  25.0 :  None : False : False : NonNegativeReals\n",
      "             ('Manizales', 'Bogotá') :     0 :   0.0 :  None : False : False : NonNegativeReals\n",
      "           ('Manizales', 'Medellín') :     0 : 200.0 :  None : False : False : NonNegativeReals\n",
      "                 ('Pasto', 'Bogotá') :     0 : 225.0 :  None : False : False : NonNegativeReals\n",
      "               ('Pasto', 'Medellín') :     0 :   0.0 :  None : False : False : NonNegativeReals\n",
      "                 ('Tunja', 'Bogotá') :     0 :   0.0 :  None : False : False : NonNegativeReals\n",
      "               ('Tunja', 'Medellín') :     0 : 250.0 :  None : False : False : NonNegativeReals\n",
      "\n",
      "  Objectives:\n",
      "    objetivo : Size=1, Index=None, Active=True\n",
      "        Key  : Active : Value\n",
      "        None :   True : 955.0\n",
      "\n",
      "  Constraints:\n",
      "    restriccion_demanda : Size=6\n",
      "        Key          : Lower : Body  : Upper\n",
      "        Barranquilla : 175.0 : 175.0 :  None\n",
      "                Cali : 125.0 : 125.0 :  None\n",
      "                Chía : 225.0 : 225.0 :  None\n",
      "           Manizales : 200.0 : 200.0 :  None\n",
      "               Pasto : 225.0 : 225.0 :  None\n",
      "               Tunja : 250.0 : 250.0 :  None\n",
      "    restriccion_oferta : Size=2\n",
      "        Key      : Lower : Body  : Upper\n",
      "          Bogotá :  None : 550.0 : 550.0\n",
      "        Medellín :  None : 650.0 : 700.0\n"
     ]
    }
   ],
   "source": [
    "# Resolver el modelo\n",
    "solver = SolverFactory('glpk')\n",
    "resultado = solver.solve(model)\n",
    "\n",
    "# Mostrar los resultados de las variables de decisión\n",
    "model.display()"
   ]
  },
  {
   "cell_type": "code",
   "execution_count": 21,
   "metadata": {},
   "outputs": [],
   "source": [
    "# Cargar duales\n",
    "model.dual = Suffix(direction=Suffix.IMPORT)\n",
    "\n",
    "# Resolver el modelo con duales\n",
    "resultado = solver.solve(model)"
   ]
  },
  {
   "cell_type": "code",
   "execution_count": 22,
   "metadata": {},
   "outputs": [
    {
     "name": "stdout",
     "output_type": "stream",
     "text": [
      "\n",
      "Análisis de Sensibilidad:\n",
      "Dual de la restricción de demanda en Cali: 0.2\n",
      "Dual de la restricción de demanda en Barranquilla: 0.0\n",
      "Dual de la restricción de demanda en Pasto: 1.8\n",
      "Dual de la restricción de demanda en Tunja: 1.0\n",
      "Dual de la restricción de demanda en Chía: 1.0\n",
      "Dual de la restricción de demanda en Manizales: 0.8\n",
      "Dual de la restricción de oferta en Bogotá: -0.2\n",
      "Dual de la restricción de oferta en Medellín: 0.0\n"
     ]
    }
   ],
   "source": [
    "#Mostrar duales de las restricciones\n",
    "print(\"\\nAnálisis de Sensibilidad:\")\n",
    "for i in ciudades_destino:\n",
    "    print(f\"Dual de la restricción de demanda en {i}: {model.dual[model.restriccion_demanda[i]]}\")\n",
    "\n",
    "for j in ciudades_origen:\n",
    "    print(f\"Dual de la restricción de oferta en {j}: {model.dual[model.restriccion_oferta[j]]}\")\n"
   ]
  },
  {
   "cell_type": "code",
   "execution_count": 23,
   "metadata": {},
   "outputs": [
    {
     "name": "stdout",
     "output_type": "stream",
     "text": [
      "\n",
      "Mover 50 toneladas de oferta de Medellín a Bogotá\n",
      "\n",
      "Model unknown\n",
      "\n",
      "  Variables:\n",
      "    x : Size=12, Index={Cali, Barranquilla, Pasto, Tunja, Chía, Manizales}*{Bogotá, Medellín}\n",
      "        Key                          : Lower : Value : Upper : Fixed : Stale : Domain\n",
      "          ('Barranquilla', 'Bogotá') :     0 :   0.0 :  None : False : False : NonNegativeReals\n",
      "        ('Barranquilla', 'Medellín') :     0 : 175.0 :  None : False : False : NonNegativeReals\n",
      "                  ('Cali', 'Bogotá') :     0 : 125.0 :  None : False : False : NonNegativeReals\n",
      "                ('Cali', 'Medellín') :     0 :   0.0 :  None : False : False : NonNegativeReals\n",
      "                  ('Chía', 'Bogotá') :     0 : 200.0 :  None : False : False : NonNegativeReals\n",
      "                ('Chía', 'Medellín') :     0 :  25.0 :  None : False : False : NonNegativeReals\n",
      "             ('Manizales', 'Bogotá') :     0 :   0.0 :  None : False : False : NonNegativeReals\n",
      "           ('Manizales', 'Medellín') :     0 : 200.0 :  None : False : False : NonNegativeReals\n",
      "                 ('Pasto', 'Bogotá') :     0 : 225.0 :  None : False : False : NonNegativeReals\n",
      "               ('Pasto', 'Medellín') :     0 :   0.0 :  None : False : False : NonNegativeReals\n",
      "                 ('Tunja', 'Bogotá') :     0 :   0.0 :  None : False : False : NonNegativeReals\n",
      "               ('Tunja', 'Medellín') :     0 : 250.0 :  None : False : False : NonNegativeReals\n",
      "\n",
      "  Objectives:\n",
      "    objetivo : Size=1, Index=None, Active=True\n",
      "        Key  : Active : Value\n",
      "        None :   True : 955.0\n",
      "\n",
      "  Constraints:\n",
      "    restriccion_demanda : Size=6\n",
      "        Key          : Lower : Body  : Upper\n",
      "        Barranquilla : 175.0 : 175.0 :  None\n",
      "                Cali : 125.0 : 125.0 :  None\n",
      "                Chía : 225.0 : 225.0 :  None\n",
      "           Manizales : 200.0 : 200.0 :  None\n",
      "               Pasto : 225.0 : 225.0 :  None\n",
      "               Tunja : 250.0 : 250.0 :  None\n",
      "    restriccion_oferta : Size=2\n",
      "        Key      : Lower : Body  : Upper\n",
      "          Bogotá :  None : 550.0 : 550.0\n",
      "        Medellín :  None : 650.0 : 700.0\n"
     ]
    }
   ],
   "source": [
    "# Mover 50 toneladas de oferta de Medellín a Bogotá y repetir el análisis de sensibilidad\n",
    "print(\"\\nMover 50 toneladas de oferta de Medellín a Bogotá\\n\")\n",
    "\n",
    "oferta['Bogotá'] += 50\n",
    "oferta['Medellín'] -= 50\n",
    "\n",
    "# Resolver nuevamente con la nueva distribución de oferta\n",
    "resultado = solver.solve(model)\n",
    "model.display()\n"
   ]
  },
  {
   "cell_type": "code",
   "execution_count": 24,
   "metadata": {},
   "outputs": [
    {
     "name": "stdout",
     "output_type": "stream",
     "text": [
      "\n",
      "Análisis de Sensibilidad después del cambio:\n",
      "Dual de la restricción de demanda en Cali: 0.2\n",
      "Dual de la restricción de demanda en Barranquilla: 0.0\n",
      "Dual de la restricción de demanda en Pasto: 1.8\n",
      "Dual de la restricción de demanda en Tunja: 1.0\n",
      "Dual de la restricción de demanda en Chía: 1.0\n",
      "Dual de la restricción de demanda en Manizales: 0.8\n",
      "Dual de la restricción de oferta en Bogotá: -0.2\n",
      "Dual de la restricción de oferta en Medellín: 0.0\n"
     ]
    }
   ],
   "source": [
    "# Mostrar duales de las nuevas restricciones\n",
    "print(\"\\nAnálisis de Sensibilidad después del cambio:\")\n",
    "for i in ciudades_destino:\n",
    "    print(f\"Dual de la restricción de demanda en {i}: {model.dual[model.restriccion_demanda[i]]}\")\n",
    "\n",
    "for j in ciudades_origen:\n",
    "    print(f\"Dual de la restricción de oferta en {j}: {model.dual[model.restriccion_oferta[j]]}\")\n"
   ]
  }
 ],
 "metadata": {
  "kernelspec": {
   "display_name": "base",
   "language": "python",
   "name": "python3"
  },
  "language_info": {
   "codemirror_mode": {
    "name": "ipython",
    "version": 3
   },
   "file_extension": ".py",
   "mimetype": "text/x-python",
   "name": "python",
   "nbconvert_exporter": "python",
   "pygments_lexer": "ipython3",
   "version": "3.12.2"
  }
 },
 "nbformat": 4,
 "nbformat_minor": 2
}
