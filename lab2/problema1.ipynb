{
 "cells": [
  {
   "cell_type": "code",
   "execution_count": 25,
   "metadata": {},
   "outputs": [],
   "source": [
    "from pyomo.environ import *\n",
    "from pyomo.opt import SolverFactory"
   ]
  },
  {
   "cell_type": "markdown",
   "metadata": {},
   "source": [
    "### **Modelo Matemático**\n",
    "\n",
    "#### **Conjuntos:**\n",
    "- \\( C \\): Conjunto de ciudades destino \\( \\{Cali, Barranquilla, Pasto, Tunja, Chía, Manizales\\} \\)\n",
    "- \\( O \\): Conjunto de ciudades origen \\( \\{Bogotá, Medellín\\} \\)\n",
    "\n",
    "#### **Parámetros:**\n",
    "- $ d_{i} $: Demanda de la ciudad \\( i \\), donde $ i \\in C $\n",
    "- $ s_{j} $: Oferta de la ciudad \\( j \\), donde $ j \\in O $\n",
    "- $ c_{ij} $: Costo de transporte por tonelada entre la ciudad de origen \\( j \\) y la ciudad de destino \\( i \\)\n",
    "\n",
    "\n"
   ]
  },
  {
   "cell_type": "code",
   "execution_count": 26,
   "metadata": {},
   "outputs": [],
   "source": [
    "# Conjuntos\n",
    "C = ['Cali', 'Barranquilla', 'Pasto', 'Tunja', 'Chía', 'Manizales']\n",
    "O = ['Bogotá', 'Medellín']"
   ]
  },
  {
   "cell_type": "code",
   "execution_count": 27,
   "metadata": {},
   "outputs": [],
   "source": [
    "# Parámetros\n",
    "demanda = {'Cali': 125, 'Barranquilla': 175, 'Pasto': 225, 'Tunja': 250, 'Chía': 225, 'Manizales': 200}\n",
    "oferta = {'Bogotá': 550, 'Medellín': 700}\n",
    "\n",
    "costos_transporte = {\n",
    "    ('Cali', 'Bogotá'): 999, ('Cali', 'Medellín'): 2.5,\n",
    "    ('Barranquilla', 'Bogotá'): 2.5, ('Barranquilla', 'Medellín'): 999,\n",
    "    ('Pasto', 'Bogotá'): 1.6, ('Pasto', 'Medellín'): 2.0,\n",
    "    ('Tunja', 'Bogotá'): 1.4, ('Tunja', 'Medellín'): 1.0,\n",
    "    ('Chía', 'Bogotá'): 0.8, ('Chía', 'Medellín'): 1.0,\n",
    "    ('Manizales', 'Bogotá'): 1.4, ('Manizales', 'Medellín'): 0.8\n",
    "}"
   ]
  },
  {
   "cell_type": "markdown",
   "metadata": {},
   "source": [
    "### **Variables de Decisión:**\n",
    "Sea:\n",
    "- $ x_{ij} $ la cantidad de toneladas de productos transportadas desde la ciudad \\( j \\) (origen) a la ciudad \\( i \\) (destino), donde $ i \\in C $ y $ j \\in O $.\n",
    "\n",
    "### **Función Objetivo:**\n",
    "El objetivo es minimizar el costo total de transporte:\n",
    "$$\n",
    "\\text{Minimizar:} \\quad \\sum_{i \\in C} \\sum_{j \\in O} c_{ij} \\cdot x_{ij}\n",
    "$$\n",
    "Donde:\n",
    "- $ c_{ij} $ es el costo de transportar una tonelada desde la ciudad \\( j \\) a la ciudad \\( i \\),\n",
    "-  C es el conjunto de ciudades de destino,\n",
    "- O es el conjunto de ciudades de origen.\n"
   ]
  },
  {
   "cell_type": "code",
   "execution_count": 28,
   "metadata": {},
   "outputs": [],
   "source": [
    "# Crear el modelo\n",
    "model = ConcreteModel()\n",
    "\n",
    "# Variables de decisión\n",
    "model.x = Var(C, O, domain=NonNegativeReals)"
   ]
  },
  {
   "cell_type": "code",
   "execution_count": 29,
   "metadata": {},
   "outputs": [],
   "source": [
    "# Función objetivo: Minimizar el costo total de transporte\n",
    "def costo_total(model):\n",
    "    return sum(costos_transporte[(i, j)] * model.x[i, j] for i in C for j in O)\n",
    "\n",
    "model.objetivo = Objective(rule=costo_total, sense=minimize)"
   ]
  },
  {
   "cell_type": "markdown",
   "metadata": {},
   "source": [
    "### **Restricciones:**\n",
    "\n",
    "1. **Restricción de Demanda:**\n",
    "   Cada ciudad de destino debe recibir al menos la cantidad de productos requerida:\n",
    "   $$\n",
    "   \\sum_{j \\in O} x_{ij} \\geq d_{i} \\quad \\forall i \\in C\n",
    "   $$\n",
    "   Donde \\( d_{i} \\) es la demanda de la ciudad \\( i \\).\n",
    "\n",
    "2. **Restricción de Oferta:**\n",
    "   Cada ciudad de origen no puede enviar más productos de los que tiene disponibles:\n",
    "   $$\n",
    "   \\sum_{i \\in C} x_{ij} \\leq s_{j} \\quad \\forall j \\in O\n",
    "   $$\n",
    "   Donde $ s_{j} $ es la oferta de la ciudad \\( j \\).\n"
   ]
  },
  {
   "cell_type": "code",
   "execution_count": 30,
   "metadata": {},
   "outputs": [],
   "source": [
    "# Restricción de demanda: cada ciudad debe recibir al menos su demanda\n",
    "def demanda_satisfecha(model, i):\n",
    "    return sum(model.x[i, j] for j in O) >= demanda[i]\n",
    "\n",
    "model.restriccion_demanda = Constraint(C, rule=demanda_satisfecha)"
   ]
  },
  {
   "cell_type": "code",
   "execution_count": 31,
   "metadata": {},
   "outputs": [],
   "source": [
    "# Restricción de oferta: cada ciudad de origen no puede enviar más productos de los que tiene disponibles\n",
    "def oferta_disponible(model, j):\n",
    "    return sum(model.x[i, j] for i in C) <= oferta[j]\n",
    "\n",
    "model.restriccion_oferta = Constraint(O, rule=oferta_disponible)"
   ]
  },
  {
   "cell_type": "code",
   "execution_count": 32,
   "metadata": {},
   "outputs": [
    {
     "name": "stdout",
     "output_type": "stream",
     "text": [
      "Model unknown\n",
      "\n",
      "  Variables:\n",
      "    x : Size=12, Index={Cali, Barranquilla, Pasto, Tunja, Chía, Manizales}*{Bogotá, Medellín}\n",
      "        Key                          : Lower : Value : Upper : Fixed : Stale : Domain\n",
      "          ('Barranquilla', 'Bogotá') :     0 : 175.0 :  None : False : False : NonNegativeReals\n",
      "        ('Barranquilla', 'Medellín') :     0 :   0.0 :  None : False : False : NonNegativeReals\n",
      "                  ('Cali', 'Bogotá') :     0 :   0.0 :  None : False : False : NonNegativeReals\n",
      "                ('Cali', 'Medellín') :     0 : 125.0 :  None : False : False : NonNegativeReals\n",
      "                  ('Chía', 'Bogotá') :     0 : 150.0 :  None : False : False : NonNegativeReals\n",
      "                ('Chía', 'Medellín') :     0 :  75.0 :  None : False : False : NonNegativeReals\n",
      "             ('Manizales', 'Bogotá') :     0 :   0.0 :  None : False : False : NonNegativeReals\n",
      "           ('Manizales', 'Medellín') :     0 : 200.0 :  None : False : False : NonNegativeReals\n",
      "                 ('Pasto', 'Bogotá') :     0 : 225.0 :  None : False : False : NonNegativeReals\n",
      "               ('Pasto', 'Medellín') :     0 :   0.0 :  None : False : False : NonNegativeReals\n",
      "                 ('Tunja', 'Bogotá') :     0 :   0.0 :  None : False : False : NonNegativeReals\n",
      "               ('Tunja', 'Medellín') :     0 : 250.0 :  None : False : False : NonNegativeReals\n",
      "\n",
      "  Objectives:\n",
      "    objetivo : Size=1, Index=None, Active=True\n",
      "        Key  : Active : Value\n",
      "        None :   True : 1715.0\n",
      "\n",
      "  Constraints:\n",
      "    restriccion_demanda : Size=6\n",
      "        Key          : Lower : Body  : Upper\n",
      "        Barranquilla : 175.0 : 175.0 :  None\n",
      "                Cali : 125.0 : 125.0 :  None\n",
      "                Chía : 225.0 : 225.0 :  None\n",
      "           Manizales : 200.0 : 200.0 :  None\n",
      "               Pasto : 225.0 : 225.0 :  None\n",
      "               Tunja : 250.0 : 250.0 :  None\n",
      "    restriccion_oferta : Size=2\n",
      "        Key      : Lower : Body  : Upper\n",
      "          Bogotá :  None : 550.0 : 550.0\n",
      "        Medellín :  None : 650.0 : 700.0\n"
     ]
    }
   ],
   "source": [
    "# Resolver el modelo\n",
    "solver = SolverFactory('glpk')\n",
    "resultado = solver.solve(model)\n",
    "\n",
    "# Mostrar los resultados de las variables de decisión\n",
    "model.display()"
   ]
  },
  {
   "cell_type": "code",
   "execution_count": 33,
   "metadata": {},
   "outputs": [],
   "source": [
    "# Cargar duales\n",
    "model.dual = Suffix(direction=Suffix.IMPORT)\n",
    "\n",
    "# Resolver el modelo con duales\n",
    "resultado = solver.solve(model)"
   ]
  },
  {
   "cell_type": "code",
   "execution_count": 34,
   "metadata": {},
   "outputs": [
    {
     "name": "stdout",
     "output_type": "stream",
     "text": [
      "\n",
      "Análisis de Sensibilidad:\n",
      "Dual de la restricción de demanda en Cali: 2.5\n",
      "Dual de la restricción de demanda en Barranquilla: 2.7\n",
      "Dual de la restricción de demanda en Pasto: 1.8\n",
      "Dual de la restricción de demanda en Tunja: 1.0\n",
      "Dual de la restricción de demanda en Chía: 1.0\n",
      "Dual de la restricción de demanda en Manizales: 0.8\n",
      "Dual de la restricción de oferta en Bogotá: -0.2\n",
      "Dual de la restricción de oferta en Medellín: 0.0\n"
     ]
    }
   ],
   "source": [
    "#Mostrar duales de las restricciones\n",
    "print(\"\\nAnálisis de Sensibilidad:\")\n",
    "for i in C:\n",
    "    print(f\"Dual de la restricción de demanda en {i}: {model.dual[model.restriccion_demanda[i]]}\")\n",
    "\n",
    "for j in O:\n",
    "    print(f\"Dual de la restricción de oferta en {j}: {model.dual[model.restriccion_oferta[j]]}\")\n"
   ]
  },
  {
   "cell_type": "code",
   "execution_count": 35,
   "metadata": {},
   "outputs": [
    {
     "name": "stdout",
     "output_type": "stream",
     "text": [
      "\n",
      "Mover 50 toneladas de oferta de Medellín a Bogotá\n",
      "\n",
      "Model unknown\n",
      "\n",
      "  Variables:\n",
      "    x : Size=12, Index={Cali, Barranquilla, Pasto, Tunja, Chía, Manizales}*{Bogotá, Medellín}\n",
      "        Key                          : Lower : Value : Upper : Fixed : Stale : Domain\n",
      "          ('Barranquilla', 'Bogotá') :     0 : 175.0 :  None : False : False : NonNegativeReals\n",
      "        ('Barranquilla', 'Medellín') :     0 :   0.0 :  None : False : False : NonNegativeReals\n",
      "                  ('Cali', 'Bogotá') :     0 :   0.0 :  None : False : False : NonNegativeReals\n",
      "                ('Cali', 'Medellín') :     0 : 125.0 :  None : False : False : NonNegativeReals\n",
      "                  ('Chía', 'Bogotá') :     0 : 150.0 :  None : False : False : NonNegativeReals\n",
      "                ('Chía', 'Medellín') :     0 :  75.0 :  None : False : False : NonNegativeReals\n",
      "             ('Manizales', 'Bogotá') :     0 :   0.0 :  None : False : False : NonNegativeReals\n",
      "           ('Manizales', 'Medellín') :     0 : 200.0 :  None : False : False : NonNegativeReals\n",
      "                 ('Pasto', 'Bogotá') :     0 : 225.0 :  None : False : False : NonNegativeReals\n",
      "               ('Pasto', 'Medellín') :     0 :   0.0 :  None : False : False : NonNegativeReals\n",
      "                 ('Tunja', 'Bogotá') :     0 :   0.0 :  None : False : False : NonNegativeReals\n",
      "               ('Tunja', 'Medellín') :     0 : 250.0 :  None : False : False : NonNegativeReals\n",
      "\n",
      "  Objectives:\n",
      "    objetivo : Size=1, Index=None, Active=True\n",
      "        Key  : Active : Value\n",
      "        None :   True : 1715.0\n",
      "\n",
      "  Constraints:\n",
      "    restriccion_demanda : Size=6\n",
      "        Key          : Lower : Body  : Upper\n",
      "        Barranquilla : 175.0 : 175.0 :  None\n",
      "                Cali : 125.0 : 125.0 :  None\n",
      "                Chía : 225.0 : 225.0 :  None\n",
      "           Manizales : 200.0 : 200.0 :  None\n",
      "               Pasto : 225.0 : 225.0 :  None\n",
      "               Tunja : 250.0 : 250.0 :  None\n",
      "    restriccion_oferta : Size=2\n",
      "        Key      : Lower : Body  : Upper\n",
      "          Bogotá :  None : 550.0 : 550.0\n",
      "        Medellín :  None : 650.0 : 700.0\n"
     ]
    }
   ],
   "source": [
    "# Mover 50 toneladas de oferta de Medellín a Bogotá y repetir el análisis de sensibilidad\n",
    "print(\"\\nMover 50 toneladas de oferta de Medellín a Bogotá\\n\")\n",
    "\n",
    "oferta['Bogotá'] += 50\n",
    "oferta['Medellín'] -= 50\n",
    "\n",
    "# Resolver nuevamente con la nueva distribución de oferta\n",
    "resultado = solver.solve(model)\n",
    "model.display()\n"
   ]
  },
  {
   "cell_type": "code",
   "execution_count": 36,
   "metadata": {},
   "outputs": [
    {
     "name": "stdout",
     "output_type": "stream",
     "text": [
      "\n",
      "Análisis de Sensibilidad después del cambio:\n",
      "Dual de la restricción de demanda en Cali: 2.5\n",
      "Dual de la restricción de demanda en Barranquilla: 2.7\n",
      "Dual de la restricción de demanda en Pasto: 1.8\n",
      "Dual de la restricción de demanda en Tunja: 1.0\n",
      "Dual de la restricción de demanda en Chía: 1.0\n",
      "Dual de la restricción de demanda en Manizales: 0.8\n",
      "Dual de la restricción de oferta en Bogotá: -0.2\n",
      "Dual de la restricción de oferta en Medellín: 0.0\n"
     ]
    }
   ],
   "source": [
    "# Mostrar duales de las nuevas restricciones\n",
    "print(\"\\nAnálisis de Sensibilidad después del cambio:\")\n",
    "for i in C:\n",
    "    print(f\"Dual de la restricción de demanda en {i}: {model.dual[model.restriccion_demanda[i]]}\")\n",
    "\n",
    "for j in O:\n",
    "    print(f\"Dual de la restricción de oferta en {j}: {model.dual[model.restriccion_oferta[j]]}\")\n"
   ]
  },
  {
   "cell_type": "markdown",
   "metadata": {},
   "source": [
    "# Análisis del Problema 1 - Optimización de Redes de Transporte\n",
    "\n",
    "## 1. Resultados del Modelo Inicial\n",
    "\n",
    "Los resultados muestran la cantidad de productos transportados desde cada ciudad de origen (Bogotá o Medellín) hacia las ciudades de destino:\n",
    "\n",
    "- **De Bogotá**:\n",
    "  - Chía: 150 toneladas.\n",
    "  - Pasto: 225 toneladas.\n",
    "\n",
    "- **De Medellín**:\n",
    "  - Barranquilla: 175 toneladas.\n",
    "  - Cali: 125 toneladas.\n",
    "  - Chía: 75 toneladas.\n",
    "  - Manizales: 200 toneladas.\n",
    "  - Tunja: 250 toneladas.\n",
    "\n",
    "El **costo total** del transporte en este caso es **1715 unidades monetarias**.\n",
    "\n",
    "## 2. Análisis de los Duales (Multiplicadores de Lagrange)\n",
    "\n",
    "Los valores duales indican cómo cambiaría el costo total si la oferta o la demanda de una ciudad cambia en una unidad. A continuación se muestran los duales obtenidos:\n",
    "\n",
    "### Restricciones de demanda (ciudades de destino):\n",
    "- **Cali**: 2.5\n",
    "- **Barranquilla**: 2.7\n",
    "- **Pasto**: 1.8\n",
    "- **Tunja**: 1.0\n",
    "- **Chía**: 1.0\n",
    "- **Manizales**: 0.8\n",
    "\n",
    "**Interpretación**:\n",
    "- El valor dual de **Cali** es 2.5, lo que indica que aumentar su demanda en una tonelada incrementaría el costo total en 2.5 unidades monetarias.\n",
    "- **Barranquilla** tiene el dual más alto (2.7), lo que sugiere que un aumento en su demanda tendría un impacto significativo en el costo.\n",
    "- **Pasto** tiene un valor dual de 1.8, indicando un aumento moderado en el costo si se incrementa la demanda.\n",
    "- **Tunja** y **Chía** tienen un dual de 1.0, indicando un impacto menor pero relevante.\n",
    "- **Manizales**, con un dual de 0.8, tendría el menor impacto al aumentar su demanda.\n",
    "\n",
    "### Restricciones de oferta (ciudades de origen):\n",
    "- **Bogotá**: -0.2\n",
    "- **Medellín**: 0.0\n",
    "\n",
    "**Interpretación**:\n",
    "- Un valor dual negativo en **Bogotá** (-0.2) indica que aumentar la oferta en Bogotá reduciría el costo total. Aumentar la oferta en una tonelada reduciría el costo en 0.2 unidades monetarias.\n",
    "- El valor dual de **Medellín** es 0.0, lo que sugiere que aumentar su oferta no afectaría el costo total, ya que su oferta está bien utilizada.\n",
    "\n",
    "## 3. Análisis de Sensibilidad después de Mover 50 Toneladas\n",
    "\n",
    "Se realizó un análisis de sensibilidad moviendo 50 toneladas de oferta de Medellín a Bogotá. Los resultados del nuevo modelo fueron:\n",
    "\n",
    "- El costo total **se mantiene en 1715 unidades monetarias**, lo que indica que el cambio no afectó significativamente los costos.\n",
    "\n",
    "Los duales para las ciudades de destino y origen permanecen iguales, lo que sugiere que la redistribución no afectó las restricciones activas del modelo:\n",
    "\n",
    "### Duales después del cambio:\n",
    "- **Cali**: 2.5\n",
    "- **Barranquilla**: 2.7\n",
    "- **Pasto**: 1.8\n",
    "- **Tunja**: 1.0\n",
    "- **Chía**: 1.0\n",
    "- **Manizales**: 0.8\n",
    "- **Bogotá**: -0.2\n",
    "- **Medellín**: 0.0\n",
    "\n",
    "## Conclusión\n",
    "\n",
    "El análisis con los duales nos muestra que:\n",
    "- Aumentar la demanda en **Barranquilla** y **Cali** incrementaría significativamente el costo, debido a sus altos valores duales.\n",
    "- Aumentar la oferta en **Bogotá** reduciría ligeramente el costo total, pero el impacto es mínimo.\n",
    "- Redistribuir la oferta entre Medellín y Bogotá no afecta el costo total, ya que la oferta de Medellín está bien aprovechada y Bogotá tiene un impacto leve en el costo.\n",
    "\n",
    "Esto sugiere que no es necesario realizar grandes cambios en la distribución de la oferta para mejorar el costo total, y que las ciudades con mayores demandas, como Barranquilla y Cali, deberían ser las prioridades.\n"
   ]
  }
 ],
 "metadata": {
  "kernelspec": {
   "display_name": "base",
   "language": "python",
   "name": "python3"
  },
  "language_info": {
   "codemirror_mode": {
    "name": "ipython",
    "version": 3
   },
   "file_extension": ".py",
   "mimetype": "text/x-python",
   "name": "python",
   "nbconvert_exporter": "python",
   "pygments_lexer": "ipython3",
   "version": "3.12.2"
  }
 },
 "nbformat": 4,
 "nbformat_minor": 2
}
